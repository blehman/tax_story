{
 "cells": [
  {
   "cell_type": "code",
   "execution_count": 68,
   "metadata": {
    "collapsed": false
   },
   "outputs": [
    {
     "data": {
      "text/html": [
       "<script>\n",
       "code_show=true; \n",
       "function code_toggle() {\n",
       " if (code_show){\n",
       " $('div.input').hide();\n",
       " } else {\n",
       " $('div.input').show();\n",
       " }\n",
       " code_show = !code_show\n",
       "} \n",
       "$( document ).ready(code_toggle);\n",
       "</script>\n",
       "<form action=\"javascript:code_toggle()\"><input type=\"submit\" value=\"Click here to toggle on/off the raw code.\"></form>"
      ],
      "text/plain": [
       "<IPython.core.display.HTML object>"
      ]
     },
     "execution_count": 68,
     "metadata": {},
     "output_type": "execute_result"
    }
   ],
   "source": [
    "import pprint\n",
    "import json\n",
    "import pandas as pd\n",
    "import matplotlib\n",
    "%matplotlib inline\n",
    "import datetime\n",
    "import numpy as np\n",
    "from sklearn import linear_model\n",
    "from IPython.display import HTML\n",
    "\n",
    "HTML('''<script>\n",
    "code_show=true; \n",
    "function code_toggle() {\n",
    " if (code_show){\n",
    " $('div.input').hide();\n",
    " } else {\n",
    " $('div.input').show();\n",
    " }\n",
    " code_show = !code_show\n",
    "} \n",
    "$( document ).ready(code_toggle);\n",
    "</script>\n",
    "<form action=\"javascript:code_toggle()\"><input type=\"submit\" value=\"Click here to toggle on/off the raw code.\"></form>''')"
   ]
  },
  {
   "cell_type": "markdown",
   "metadata": {},
   "source": [
    "## History \n",
    "<div id=\"hist\"></div>\n",
    "#### Facts:\n",
    "The facts below are related to tech, e-filing, and the environment.\n",
    "\n",
    "1. In 1981, the first laptop was publically available for purchase, which weighed over 20lbs and had a 5 inch screen. [source](https://en.wikipedia.org/wiki/Laptop)\n",
    "1. The internet became widely availble in the late 1980s [source](http://www.internetsociety.org/internet/what-internet/history-internet/brief-history-internet#Transition).\n",
    "1. By 1990 e-filing was available nationwide. [source](https://www.irs.gov/uac/irs-e-file-a-history).\n",
    "1. Less than 4% of tax returns were e-filed in 1990. [source](https://www.irs.gov/pub/irs-soi/90inar.pdf).\n",
    "1. In the late 1990s, the US government set a goal for 80% of taxes being e-filed. [source](https://www.irs.gov/uac/starting-in-2011-many-paid-preparers-must-e-file-federal-income-tax-returns-for-individuals-estates-and-trusts)\n",
    "1. In 2009, the acting head of the EPA authored a declaration that CO<sub>2</sub> threatens the public health and welfare of current and future generations. [source](https://www.epa.gov/climatechange/endangerment-and-cause-or-contribute-findings-greenhouse-gases-under-section-202a)\n",
    "1. By 2011, the US government enacted legislation that requires paid tax preparers to e-file. [source](https://www.irs.gov/uac/starting-in-2011-many-paid-preparers-must-e-file-federal-income-tax-returns-for-individuals-estates-and-trusts) \n",
    "1. In 2014, over 90% of tax returns are e-filed. [source](https://www.irs.gov/uac/newsroom/as-efile-grows-irs-receives-fewer-tax-returns-on-paper)\n",
    "1. By 2016, laptops weigh about 3lbs and have 15inch screens. [source](http://www.apple.com/macbook-pro/specs/)\n",
    "1. In 2017, the acting head of the EPA made a declaration that CO<sub>2</sub> is not a primary contributor to global warming [source](https://www.nytimes.com/2017/03/09/us/politics/epa-scott-pruitt-global-warming.html)\n",
    "1. Further historical facts from e-filing from the IRS are available [here](https://www.irs.gov/uac/irs-e-file-a-history)\n",
    "\n",
    "#### Stats:  \n",
    "* The following information is reported by the IRS :\n",
    "    1. The total number of tax returns filed in 1990 [source](https://www.irs.gov/pub/irs-soi/90inar.pdf):\n",
    "        * 113,717,138 returns filed\n",
    "    1. The total number of tax returns filed in 2000 [source](https://www.irs.gov/uac/soi-tax-stats-individual-statistical-tables-by-size-of-adjusted-gross-income)\n",
    "        * 129,373,500 returns filed\n",
    "    1. The total number of tax returns filed in 2010 [source1](https://www.irs.gov/uac/2017-and-prior-year-filing-season-statistics) [source2](https://www.irs.gov/uac/2010-filing-season-statistics):\n",
    "        * 142,449,000 returns filed\n",
    "    1. The total number of tax returns filed in 2016 [source1](https://www.irs.gov/uac/2017-and-prior-year-filing-season-statistics)[source2](https://www.irs.gov/uac/newsroom/filing-season-statistics-for-the-week-ending-december-30-2016):\n",
    "        * 152,544,000\n",
    "    1. The total number of tax returns filed in 2025 (used 2020's total primary return figure) [source](https://www.irs.gov/pub/irs-soi/p6292.pdf) \n",
    "        * 229,259,400\n",
    "\n",
    "* The following information is a rough approximation of e-filing percentages. [source](https://www.efile.com/efile-tax-return-direct-deposit-statistics/):\n",
    "    * 1990's:  4% - 25% total returns e-file\n",
    "    * 2000's: 30% - 70% total returns e-file\n",
    "    * 2010's: 70% - 90% total returns e-file\n",
    "    * 2016: 90% total returns e-file\n",
    "    * 2025: 99.9%\n",
    "  \n",
    "## Energy\n",
    "\n",
    "<div id=\"energy\"></div>\n",
    "#### Assumptions:\n",
    "The information below lays out the assumptions used to build an approximation for how much CO<sub>2</sub> is used to paper file versus efile. \n",
    "* The International Post Corporation reported in their [2016 sustainability report](https://www.ipc.be/en/knowledge-centre/sustainability/sustainability-report) that mailing 1 letter in 2015 required 37.2g of CO<sub>2</sub>. We use this number as the lower bound for the carbon used to paper file taxes.   \n",
    "    \n",
    "* The total number of hours it takes to file a tax return is assumed to be 9 hours for 70% of returns and 22 hours for the remaining 30% [source](https://www.irs.gov/instructions/i1040a/ar03.html)  \n",
    "\n",
    "* On average, electricity sources emit 1.222lbs CO2 per kWh (0.0005925 metric tons CO2 per kWh) [source](https://carbonfund.org/how-we-calculate/), which is assumed to be constant across all years.  \n",
    "\n",
    "* Laptops are assumed to require 70 watts the following instantaneous watts [source1](https://support.apple.com/en-us/HT201700) [source2](https://support.apple.com/en-us/HT201796)  \n",
    "    \n",
    "* Laptops are assumed to be responsible for all e-filing. [NO SOURCE]\n",
    "\n",
    "\n",
    "## Formulas\n",
    "<div id=\"formulas\"></div>\n",
    "* The equation for calculating the total CO<sub>2</sub> from paper filings:\n",
    "\n",
    "\\begin{equation}\n",
    "paperCO_2 =  (number\\ of\\ returns\\ in\\ the\\ year) * (\\%paper\\ filing) * (CO_2\\ per\\ mailed\\ letter) \n",
    "\\end{equation}  \n",
    "\n",
    "* The equation(s) for calculating the total CO<sub>2</sub> from e-filings included the assumption for the different time taken to prepare business and non-business tax returns: \n",
    "\n",
    "\\begin{equation}\n",
    "efile30CO_2 = (number\\ of\\ returns\\ in\\ this\\ year) * (\\%efile\\ filing) * (30\\%) * (9\\ hrs\\ to\\ prepare\\ return) * (laptop\\ watts) * (CO_2\\ conversion)  \n",
    "\\end{equation} \n",
    "\n",
    "\\begin{equation}\n",
    "efile70CO_2 = (number\\ of\\ returns\\ in\\ this\\ year) * (\\%efile\\ filing) * (70\\%) * (22\\ hrs\\ to\\ prepare\\ return) * (laptop\\ watts) * (CO_2\\ conversion)  \n",
    "\\end{equation}\n",
    "\n",
    "\\begin{equation}\n",
    "efileCO_2 = efile30CO_2 + efile70CO_2  \n",
    "\\end{equation}\n"
   ]
  },
  {
   "cell_type": "markdown",
   "metadata": {},
   "source": [
    "### Carbon Calcs\n",
    "Using the assumptions and formulas, the following cells calculate the yearly totals. First, we'll approximate the percentage for 2025 using regression. "
   ]
  },
  {
   "cell_type": "code",
   "execution_count": 55,
   "metadata": {
    "collapsed": false
   },
   "outputs": [
    {
     "name": "stdout",
     "output_type": "stream",
     "text": [
      "Coefficients: \n",
      " [[ 0.03377551]]\n",
      "2025 percentage: [[ 1.19428571]]\n"
     ]
    }
   ],
   "source": [
    "x_train = np.array([[1990], [2000], [2010], [2016]])\n",
    "y_train = np.array([[y] for y in [0.04, 0.30, 0.70, 0.90]])\n",
    "regr = linear_model.LinearRegression()\n",
    "regr.fit(x_train, y_train)\n",
    "print('Coefficients: \\n', regr.coef_)\n",
    "print(\"2025 percentage: {}\".format(regr.predict(2025)))\n"
   ]
  },
  {
   "cell_type": "markdown",
   "metadata": {},
   "source": [
    "Next, we'll set up the input for the formulas that calculate the number of pounds of CO<sub>2</sub>."
   ]
  },
  {
   "cell_type": "code",
   "execution_count": 51,
   "metadata": {
    "collapsed": false
   },
   "outputs": [],
   "source": [
    "years = [str(Y)+\"-12-31T00:00:00\" for Y in [1990, 2000, 2010, 2016, 2025,2026]]\n",
    "years = [datetime.datetime.strptime(year, '%Y-%m-%dT%H:%M:%S') for year in years] \n",
    "returns_filed = [113717138, 129373500, 142449000,152544000,229259400,229259400]\n",
    "CO2_per_letter = 37.2\n",
    "CO2_per_letter2025 = 29.5\n",
    "percentage_efiled = [0.04, 0.30, 0.70, 0.90, 0.981,0]\n",
    "laptop_watts = 70\n",
    "watts_CO2_conversion =  0.001 * 1.222"
   ]
  },
  {
   "cell_type": "markdown",
   "metadata": {},
   "source": [
    "Now apply the formulas to calculate the number of pounds of CO<sub>2</sub> produced for e-filing and paper filing. \n",
    "<br>\n",
    "**note: 2026 is being used as a dummy year just to see what the total CO<sub>2</sub> produced is when we have 100% paper filing.**  "
   ]
  },
  {
   "cell_type": "code",
   "execution_count": 61,
   "metadata": {
    "collapsed": false
   },
   "outputs": [
    {
     "name": "stdout",
     "output_type": "stream",
     "text": [
      "1990: eFile_CO2 < paper_CO2 == True\n",
      "2000: eFile_CO2 < paper_CO2 == True\n",
      "2010: eFile_CO2 < paper_CO2 == True\n",
      "2016: eFile_CO2 < paper_CO2 == True\n",
      "2025: eFile_CO2 < paper_CO2 == False\n",
      "2026: eFile_CO2 < paper_CO2 == True\n"
     ]
    }
   ],
   "source": [
    "d = {\n",
    "    \"lbs_of_CO2_from_eFile\": {year:0 for year in years} \n",
    "    ,\"percent_retruns_eFiled\": {year:0 for year in years} \n",
    "    ,\"lbs_of_CO2_from_paperFile\": {year:0 for year in years}\n",
    "    ,\"percent_returns_paperFiled\":{year:0 for year in years}\n",
    "    ,\"number_of_tax_returns\":{year:0 for year in years}\n",
    "    }\n",
    "\n",
    "# iterate through years\n",
    "for i,year in enumerate(years):\n",
    "    c = CO2_per_letter\n",
    "    if year == 2025:\n",
    "        # set based on the goal for 2025 \n",
    "        c = CO2_per_letter2025\n",
    "    paperCO2 = returns_filed[i] * (1-percentage_efiled[i]) * c \n",
    "    efileCO2_30 = returns_filed[i] * percentage_efiled[i] * 0.70 * 9 * (laptop_watts * watts_CO2_conversion)\n",
    "    efileCO2_70 = returns_filed[i] * percentage_efiled[i] * 0.30 * 22 * (laptop_watts * watts_CO2_conversion)\n",
    "    e = efileCO2_70 + efileCO2_30\n",
    "    d[\"lbs_of_CO2_from_eFile\"][year] = e\n",
    "    d[\"percent_retruns_eFiled\"][year] = (percentage_efiled[i])\n",
    "    d[\"lbs_of_CO2_from_paperFile\"][year] = paperCO2\n",
    "    d[\"percent_returns_paperFiled\"][year] = 1-percentage_efiled[i]\n",
    "    d[\"number_of_tax_returns\"][year] = returns_filed[i]\n",
    "    \n",
    "    print(str(year.year)+\":\", \"eFile_CO2 < paper_CO2 ==\", e<paperCO2)\n",
    "    "
   ]
  },
  {
   "cell_type": "markdown",
   "metadata": {},
   "source": [
    "### Show Totals\n",
    "The next cell shows a table of the totals.\n",
    "<div id=\"table\"></div>"
   ]
  },
  {
   "cell_type": "code",
   "execution_count": 67,
   "metadata": {
    "collapsed": false
   },
   "outputs": [
    {
     "data": {
      "text/html": [
       "<div>\n",
       "<table border=\"1\" class=\"dataframe\">\n",
       "  <thead>\n",
       "    <tr style=\"text-align: right;\">\n",
       "      <th></th>\n",
       "      <th>lbs_of_CO2_from_eFile</th>\n",
       "      <th>lbs_of_CO2_from_paperFile</th>\n",
       "      <th>number_of_tax_returns</th>\n",
       "      <th>percent_retruns_eFiled</th>\n",
       "      <th>percent_returns_paperFiled</th>\n",
       "    </tr>\n",
       "  </thead>\n",
       "  <tbody>\n",
       "    <tr>\n",
       "      <th>1990-12-31</th>\n",
       "      <td>5.019320e+06</td>\n",
       "      <td>4.061066e+09</td>\n",
       "      <td>113717138</td>\n",
       "      <td>0.040</td>\n",
       "      <td>0.960</td>\n",
       "    </tr>\n",
       "    <tr>\n",
       "      <th>2000-12-31</th>\n",
       "      <td>4.282778e+07</td>\n",
       "      <td>3.368886e+09</td>\n",
       "      <td>129373500</td>\n",
       "      <td>0.300</td>\n",
       "      <td>0.700</td>\n",
       "    </tr>\n",
       "    <tr>\n",
       "      <th>2010-12-31</th>\n",
       "      <td>1.100313e+08</td>\n",
       "      <td>1.589731e+09</td>\n",
       "      <td>142449000</td>\n",
       "      <td>0.700</td>\n",
       "      <td>0.300</td>\n",
       "    </tr>\n",
       "    <tr>\n",
       "      <th>2016-12-31</th>\n",
       "      <td>1.514944e+08</td>\n",
       "      <td>5.674637e+08</td>\n",
       "      <td>152544000</td>\n",
       "      <td>0.900</td>\n",
       "      <td>0.100</td>\n",
       "    </tr>\n",
       "    <tr>\n",
       "      <th>2025-12-31</th>\n",
       "      <td>2.481733e+08</td>\n",
       "      <td>1.620405e+08</td>\n",
       "      <td>229259400</td>\n",
       "      <td>0.981</td>\n",
       "      <td>0.019</td>\n",
       "    </tr>\n",
       "    <tr>\n",
       "      <th>2026-12-31</th>\n",
       "      <td>0.000000e+00</td>\n",
       "      <td>8.528450e+09</td>\n",
       "      <td>229259400</td>\n",
       "      <td>0.000</td>\n",
       "      <td>1.000</td>\n",
       "    </tr>\n",
       "  </tbody>\n",
       "</table>\n",
       "</div>"
      ],
      "text/plain": [
       "            lbs_of_CO2_from_eFile  lbs_of_CO2_from_paperFile  \\\n",
       "1990-12-31           5.019320e+06               4.061066e+09   \n",
       "2000-12-31           4.282778e+07               3.368886e+09   \n",
       "2010-12-31           1.100313e+08               1.589731e+09   \n",
       "2016-12-31           1.514944e+08               5.674637e+08   \n",
       "2025-12-31           2.481733e+08               1.620405e+08   \n",
       "2026-12-31           0.000000e+00               8.528450e+09   \n",
       "\n",
       "            number_of_tax_returns  percent_retruns_eFiled  \\\n",
       "1990-12-31              113717138                   0.040   \n",
       "2000-12-31              129373500                   0.300   \n",
       "2010-12-31              142449000                   0.700   \n",
       "2016-12-31              152544000                   0.900   \n",
       "2025-12-31              229259400                   0.981   \n",
       "2026-12-31              229259400                   0.000   \n",
       "\n",
       "            percent_returns_paperFiled  \n",
       "1990-12-31                       0.960  \n",
       "2000-12-31                       0.700  \n",
       "2010-12-31                       0.300  \n",
       "2016-12-31                       0.100  \n",
       "2025-12-31                       0.019  \n",
       "2026-12-31                       1.000  "
      ]
     },
     "execution_count": 67,
     "metadata": {},
     "output_type": "execute_result"
    }
   ],
   "source": [
    "df = pd.DataFrame(d)\n",
    "df.to_csv(\"./yearly_lbs_of_CO2_per_tax_filing_methods.csv\")\n",
    "df"
   ]
  },
  {
   "cell_type": "markdown",
   "metadata": {},
   "source": [
    "The final cell shows a bar plot of the results. <br>\n",
    "**note: 2026 is being used as a dummy year just to see what the total CO<sub>2</sub> produced is when we have 100% paper filing.**  \n",
    "<div id=\"plots\"></div>"
   ]
  },
  {
   "cell_type": "code",
   "execution_count": 64,
   "metadata": {
    "collapsed": false
   },
   "outputs": [
    {
     "data": {
      "text/plain": [
       "<matplotlib.axes._subplots.AxesSubplot at 0x11a8bfeb8>"
      ]
     },
     "execution_count": 64,
     "metadata": {},
     "output_type": "execute_result"
    },
    {
     "data": {
      "image/png": "[encoded data removed]",
      "text/plain": [
       "<matplotlib.figure.Figure at 0x11a8bf9b0>"
      ]
     },
     "metadata": {},
     "output_type": "display_data"
    }
   ],
   "source": [
    "df[[\"lbs_of_CO2_from_eFile\",\"lbs_of_CO2_from_paperFile\"]].plot(kind=\"bar\")"
   ]
  },
  {
   "cell_type": "markdown",
   "metadata": {},
   "source": [
    "...the end"
   ]
  },
  {
   "cell_type": "code",
   "execution_count": 65,
   "metadata": {
    "collapsed": false
   },
   "outputs": [],
   "source": [
    "e = {}\n",
    "for item in d:\n",
    "    for year,value in d[item].items():\n",
    "        e[item]=e.get(item,{})\n",
    "        e[item][year.year] = value"
   ]
  },
  {
   "cell_type": "code",
   "execution_count": 66,
   "metadata": {
    "collapsed": false
   },
   "outputs": [
    {
     "name": "stdout",
     "output_type": "stream",
     "text": [
      "{'lbs_of_CO2_from_eFile': {1990: 5019319.816012321,\n",
      "                           2000: 42827777.5653,\n",
      "                           2010: 110031339.7638,\n",
      "                           2016: 151494405.7536,\n",
      "                           2025: 248173333.97187242,\n",
      "                           2026: 0.0},\n",
      " 'lbs_of_CO2_from_paperFile': {1990: 4061066432.256,\n",
      "                               2000: 3368885940.0000005,\n",
      "                               2010: 1589730840.0000005,\n",
      "                               2016: 567463679.9999999,\n",
      "                               2025: 162040543.92000017,\n",
      "                               2026: 8528449680.000001},\n",
      " 'number_of_tax_returns': {1990: 113717138,\n",
      "                           2000: 129373500,\n",
      "                           2010: 142449000,\n",
      "                           2016: 152544000,\n",
      "                           2025: 229259400,\n",
      "                           2026: 229259400},\n",
      " 'percent_retruns_eFiled': {1990: 0.04,\n",
      "                            2000: 0.3,\n",
      "                            2010: 0.7,\n",
      "                            2016: 0.9,\n",
      "                            2025: 0.981,\n",
      "                            2026: 0},\n",
      " 'percent_returns_paperFiled': {1990: 0.96,\n",
      "                                2000: 0.7,\n",
      "                                2010: 0.30000000000000004,\n",
      "                                2016: 0.09999999999999998,\n",
      "                                2025: 0.019000000000000017,\n",
      "                                2026: 1}}\n"
     ]
    }
   ],
   "source": [
    "pprint.pprint(e)"
   ]
  },
  {
   "cell_type": "code",
   "execution_count": null,
   "metadata": {
    "collapsed": true
   },
   "outputs": [],
   "source": []
  }
 ],
 "metadata": {
  "anaconda-cloud": {},
  "kernelspec": {
   "display_name": "Python [default]",
   "language": "python",
   "name": "python3"
  },
  "language_info": {
   "codemirror_mode": {
    "name": "ipython",
    "version": 3
   },
   "file_extension": ".py",
   "mimetype": "text/x-python",
   "name": "python",
   "nbconvert_exporter": "python",
   "pygments_lexer": "ipython3",
   "version": "3.5.2"
  }
 },
 "nbformat": 4,
 "nbformat_minor": 2
}
