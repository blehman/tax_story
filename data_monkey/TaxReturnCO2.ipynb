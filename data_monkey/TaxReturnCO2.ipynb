{
 "cells": [
  {
   "cell_type": "code",
   "execution_count": 23,
   "metadata": {
    "collapsed": false
   },
   "outputs": [
    {
     "data": {
      "text/html": [
       "<script>\n",
       "code_show=true; \n",
       "function code_toggle() {\n",
       " if (code_show){\n",
       " $('div.input').hide();\n",
       " } else {\n",
       " $('div.input').show();\n",
       " }\n",
       " code_show = !code_show\n",
       "} \n",
       "$( document ).ready(code_toggle);\n",
       "</script>\n",
       "<form action=\"javascript:code_toggle()\"><input type=\"submit\" value=\"Click here to toggle on/off the raw code.\"></form>"
      ],
      "text/plain": [
       "<IPython.core.display.HTML object>"
      ]
     },
     "execution_count": 23,
     "metadata": {},
     "output_type": "execute_result"
    }
   ],
   "source": [
    "import pprint\n",
    "import json\n",
    "import pandas as pd\n",
    "import matplotlib\n",
    "%matplotlib inline\n",
    "import datetime\n",
    "import numpy as np\n",
    "from sklearn import linear_model\n",
    "from IPython.display import HTML\n",
    "\n",
    "HTML('''<script>\n",
    "code_show=true; \n",
    "function code_toggle() {\n",
    " if (code_show){\n",
    " $('div.input').hide();\n",
    " } else {\n",
    " $('div.input').show();\n",
    " }\n",
    " code_show = !code_show\n",
    "} \n",
    "$( document ).ready(code_toggle);\n",
    "</script>\n",
    "<form action=\"javascript:code_toggle()\"><input type=\"submit\" value=\"Click here to toggle on/off the raw code.\"></form>''')"
   ]
  },
  {
   "cell_type": "markdown",
   "metadata": {},
   "source": [
    "## History \n",
    "\n",
    "\n",
    "#### Facts:\n",
    "The facts below are related to tech, e-filing, and the environment.\n",
    "\n",
    "1. In 1981, the first laptop was publically available for purchase, which weighed over 20lbs and had a 5 inch screen. [source](https://en.wikipedia.org/wiki/Laptop)  \n",
    "1. The internet became widely availble in the late 1980s [source](http://www.internetsociety.org/internet/what-internet/history-internet/brief-history-internet#Transition).  \n",
    "1. By 1990 e-filing was available nationwide. [source](https://www.irs.gov/uac/irs-e-file-a-history).  \n",
    "1. Less than 4% of tax returns were e-filed in 1990. [source](https://www.irs.gov/pub/irs-soi/90inar.pdf).  \n",
    "1. In the late 1990s, the US government set a goal for 80% of taxes being e-filed. [source](https://www.irs.gov/uac/starting-in-2011-many-paid-preparers-must-e-file-federal-income-tax-returns-for-individuals-estates-and-trusts)  \n",
    "1. In 2009, the acting head of the EPA authored a declaration that CO<sub>2</sub> threatens the public health and welfare of current and future generations. [source](https://www.epa.gov/climatechange/endangerment-and-cause-or-contribute-findings-greenhouse-gases-under-section-202a)  \n",
    "1. By 2011, the US government enacted legislation that requires paid tax preparers to e-file. [source](https://www.irs.gov/uac/starting-in-2011-many-paid-preparers-must-e-file-federal-income-tax-returns-for-individuals-estates-and-trusts)   \n",
    "1. In 2014, over 90% of tax returns are e-filed. [source](https://www.irs.gov/uac/newsroom/as-efile-grows-irs-receives-fewer-tax-returns-on-paper)  \n",
    "1. By 2016, laptops weigh about 3lbs and have 15inch screens. [source](http://www.apple.com/macbook-pro/specs/)  \n",
    "1. In 2017, the acting head of the EPA made a declaration that CO<sub>2</sub> is not a primary contributor to global warming [source](https://www.nytimes.com/2017/03/09/us/politics/epa-scott-pruitt-global-warming.html)  \n",
    "1. Further historical facts from e-filing from the IRS are available [here](https://www.irs.gov/uac/irs-e-file-a-history)  \n",
    "\n",
    "#### Stats:  \n",
    "* The following information is reported by the IRS :\n",
    "    1. The total number of tax returns filed in 1990 [source](https://www.irs.gov/pub/irs-soi/90inar.pdf):\n",
    "        * 113,717,138 returns filed\n",
    "    1. The total number of tax returns filed in 2000 [source](https://www.irs.gov/uac/soi-tax-stats-individual-statistical-tables-by-size-of-adjusted-gross-income)\n",
    "        * 129,373,500 returns filed\n",
    "    1. The total number of tax returns filed in 2010 [source1](https://www.irs.gov/uac/2017-and-prior-year-filing-season-statistics) [source2](https://www.irs.gov/uac/2010-filing-season-statistics):\n",
    "        * 142,449,000 returns filed\n",
    "    1. The total number of tax returns filed in 2016 [source1](https://www.irs.gov/uac/2017-and-prior-year-filing-season-statistics) [source2](https://www.irs.gov/uac/newsroom/filing-season-statistics-for-the-week-ending-december-30-2016):\n",
    "        * 152,544,000\n",
    "    1. The total number of tax returns filed in 2025 (used 2020's total primary return figure) [source](https://www.irs.gov/pub/irs-soi/p6292.pdf) \n",
    "        * 229,259,400\n",
    "\n",
    "* The following information is a rough approximation of e-filing percentages. [source](https://www.efile.com/efile-tax-return-direct-deposit-statistics/):\n",
    "    * 1990's:  4% - 25% total returns e-file\n",
    "    * 2000's: 30% - 70% total returns e-file\n",
    "    * 2010's: 70% - 90% total returns e-file\n",
    "    * 2016: 90% total returns e-file\n",
    "    * 2025: 99.9%\n",
    "  \n",
    "## Energy\n",
    "\n",
    "\n",
    "#### Assumptions:\n",
    "The information below lays out the assumptions used to build an approximation for how much CO<sub>2</sub> is used to paper file versus efile. \n",
    "* The International Post Corporation reported in their [2016 sustainability report](https://www.ipc.be/en/knowledge-centre/sustainability/sustainability-report) that mailing 1 letter in 2015 required 37.2g of CO<sub>2</sub>. We use this number as the lower bound for the carbon used to paper file taxes.   \n",
    "    \n",
    "* The total number of hours it takes to file a tax return is assumed to be 9 hours for 70% of returns and 22 hours for the remaining 30% [source](https://www.irs.gov/instructions/i1040a/ar03.html)  \n",
    "\n",
    "* On average, electricity sources emit 1.222lbs CO2 per kWh (0.0005925 metric tons CO2 per kWh) [source](https://carbonfund.org/how-we-calculate/), which is assumed to be constant across all years.  \n",
    "\n",
    "* Laptops are assumed to consume 70 watts [source1](https://support.apple.com/en-us/HT201700), but efilings could be made on desktops as well. Desktop computers consume hundreds of watts [source2](https://support.apple.com/en-us/HT201796). To be conserative, we assumed the wattage for e-filing to be **300** watts.  \n",
    "    \n",
    "* 100,000 sheets of paper have a carbon footprint of 6,000kg (from energy required to create the paper and dispose of it in landfill eight times).[source](https://www.goodenergy.co.uk/good-stats-on-carbon-saving/)\n",
    "\n",
    "* 2 pages is the assumed length of a tax return [NO SOURCE]\n",
    "\n",
    "## Formulas  \n",
    "<div id=\"formulas\"></div>\n",
    "\n",
    "* The equation for calculating the total CO<sub>2</sub> from paper filings:  \n",
    "\n",
    "    delivery:  \n",
    "    $$deliveryPaperCO_2 =  (number\\ of\\ returns\\ in\\ the\\ year) * (\\%paper\\ filing) * (CO_2\\ per\\ mailed\\ letter)$$  \n",
    "\n",
    "    production and disposal:  \n",
    "    $$pdPaperCO_2 =  (number\\ of\\ returns\\ in\\ the\\ year) * (\\%paper\\ filing) * (lbs_CO2\\ per\\ sheet) * (number\\ of\\ sheets) $$   \n",
    "\n",
    "    total:  \n",
    "    $$paperCO_2 =  deliveryPaperCO_2 + pdPaperCO_2$$\n",
    "\n",
    "\n",
    "* The equation(s) for calculating the total CO<sub>2</sub> from e-filings included the assumption for the different time taken to prepare non-business and business tax returns:   \n",
    "\n",
    "    non-business:   \n",
    "    $$efile30CO_2 = (number\\ of\\ returns\\ in\\ this\\ year) * (\\%efile\\ filing) * (70\\%) * (9\\ hrs\\ to\\ prepare\\ return) * (laptop\\ watts) * (CO_2\\ conversion)$$  \n",
    "\n",
    "    busines:    \n",
    "    $$efile70CO_2 = (number\\ of\\ returns\\ in\\ this\\ year) * (\\%efile\\ filing) * (30\\%) * (22\\ hrs\\ to\\ prepare\\ return) * (laptop\\ watts) * (CO_2\\ conversion)$$  \n",
    "\n",
    "    total:  \n",
    "    $$efileCO_2 = efile30CO_2 + efile70CO_2$$"
   ]
  },
  {
   "cell_type": "markdown",
   "metadata": {},
   "source": [
    "### Carbon Calcs\n",
    "Using the assumptions and formulas, we can calculate the yearly totals. First, we'll approximate the percentage of returns that are e-filed for 2025:  "
   ]
  },
  {
   "cell_type": "code",
   "execution_count": 24,
   "metadata": {
    "collapsed": false
   },
   "outputs": [
    {
     "name": "stdout",
     "output_type": "stream",
     "text": [
      "Coefficients: \n",
      " [[ 0.03377551]]\n",
      "percentage of paper filing in 2025: 0.011942857142857121\n",
      "percentage of e-filing in 2025: 0.9881\n"
     ]
    }
   ],
   "source": [
    "x_train = np.array([[1990], [2000], [2010], [2016]])\n",
    "y_train = np.array([[y] for y in [0.04, 0.30, 0.70, 0.90]])\n",
    "regr = linear_model.LinearRegression()\n",
    "regr.fit(x_train, y_train)\n",
    "print('Coefficients: \\n', regr.coef_)\n",
    "print(\"percentage of paper filing in 2025: {}\".format(regr.predict(2025)[0][0]/100))\n",
    "pred2025 = round(regr.predict(2025)[0][0]/100,4)\n",
    "eFilepred2025 = 1-pred2025\n",
    "print(\"percentage of e-filing in 2025: {}\".format(eFilepred2025))"
   ]
  },
  {
   "cell_type": "markdown",
   "metadata": {},
   "source": [
    "Next, we'll set up the input to the formulas that calculate the number of pounds of CO<sub>2</sub>. This is just data munging so the cell is hidden. "
   ]
  },
  {
   "cell_type": "code",
   "execution_count": 25,
   "metadata": {
    "collapsed": false
   },
   "outputs": [],
   "source": [
    "years = [str(Y)+\"-12-31T00:00:00\" for Y in [1990, 2000, 2010, 2016, 2025,2026]]\n",
    "years = [datetime.datetime.strptime(year, '%Y-%m-%dT%H:%M:%S') for year in years] \n",
    "returns_filed = [113717138, 129373500, 142449000,152544000,229259400,229259400]\n",
    "CO2_per_letter = 37.2 * 0.00220462\n",
    "CO2_per_letter2025 = 29.5\n",
    "percentage_efiled = [0.04, 0.30, 0.70, 0.90, eFilepred2025,0]\n",
    "laptop_watts = 70\n",
    "watts_CO2_conversion =  0.001 * 1.222\n",
    "kg_2_lbs = 2.20462\n",
    "lbs_CO2_per_sheet = 6/100 * kg_2_lbs\n",
    "sheets_per_return = 2"
   ]
  },
  {
   "cell_type": "markdown",
   "metadata": {},
   "source": [
    "Finally, we apply the formulas to calculate the number of pounds of CO<sub>2</sub> produced for e-filing and paper filing. \n",
    "<br>\n",
    "**note: We use the following years: 1990, 2000, 2010, 2016, 2025, and 2026. However, 2026 is being used as a dummy year just so we can see what the total CO<sub>2</sub> produced is when we have 100% paper filing.**  "
   ]
  },
  {
   "cell_type": "code",
   "execution_count": 26,
   "metadata": {
    "collapsed": false
   },
   "outputs": [
    {
     "name": "stdout",
     "output_type": "stream",
     "text": [
      "1990: eFile_CO2 < paper_CO2 == True\n",
      "2000: eFile_CO2 < paper_CO2 == False\n",
      "2010: eFile_CO2 < paper_CO2 == False\n",
      "2016: eFile_CO2 < paper_CO2 == False\n",
      "2025: eFile_CO2 < paper_CO2 == False\n",
      "2026: eFile_CO2 < paper_CO2 == True\n"
     ]
    }
   ],
   "source": [
    "d = {\n",
    "    \"lbs_of_CO2_from_eFile\": {year:0 for year in years} \n",
    "    ,\"percent_of_returns_eFiled\": {year:0 for year in years} \n",
    "    ,\"lbs_of_CO2_from_paperFile\": {year:0 for year in years}\n",
    "    ,\"percent_of_returns_paperFiled\":{year:0 for year in years}\n",
    "    ,\"number_of_tax_returns\":{year:0 for year in years}\n",
    "    }\n",
    "\n",
    "# iterate through years\n",
    "for i,year in enumerate(years):\n",
    "    c = CO2_per_letter\n",
    "    if year == 2025:\n",
    "        # set based on the goal for 2025 \n",
    "        c = CO2_per_letter2025\n",
    "    deliveryDaperCO2 = returns_filed[i] * (1-percentage_efiled[i]) * c \n",
    "    pdPaperCO2 = returns_filed[i] * (1-percentage_efiled[i]) * lbs_CO2_per_sheet * sheets_per_return\n",
    "    paperCO2 = deliveryDaperCO2 + pdPaperCO2\n",
    "    efileCO2_30 = returns_filed[i] * percentage_efiled[i] * 0.70 * 9 * (laptop_watts * watts_CO2_conversion)\n",
    "    efileCO2_70 = returns_filed[i] * percentage_efiled[i] * 0.30 * 22 * (laptop_watts * watts_CO2_conversion)\n",
    "    e = efileCO2_70 + efileCO2_30\n",
    "    d[\"lbs_of_CO2_from_eFile\"][year] = e\n",
    "    d[\"percent_of_returns_eFiled\"][year] = (percentage_efiled[i])\n",
    "    d[\"lbs_of_CO2_from_paperFile\"][year] = paperCO2\n",
    "    d[\"percent_of_returns_paperFiled\"][year] = 1-percentage_efiled[i]\n",
    "    d[\"number_of_tax_returns\"][year] = returns_filed[i]\n",
    "    \n",
    "    print(str(year.year)+\":\", \"eFile_CO2 < paper_CO2 ==\", e<paperCO2)\n",
    "    "
   ]
  },
  {
   "cell_type": "markdown",
   "metadata": {},
   "source": [
    "### Total lbs of CO<sub>2</sub>\n",
    "The table below shows the total CO<sub>2</sub> produced from e-filing and paper filing for each year based on the percentage of returns that are filed with each method.\n",
    "<div id=\"table\"></div>"
   ]
  },
  {
   "cell_type": "code",
   "execution_count": 27,
   "metadata": {
    "collapsed": false
   },
   "outputs": [
    {
     "data": {
      "text/html": [
       "<div>\n",
       "<table border=\"1\" class=\"dataframe\">\n",
       "  <thead>\n",
       "    <tr style=\"text-align: right;\">\n",
       "      <th></th>\n",
       "      <th>lbs_of_CO2_from_eFile</th>\n",
       "      <th>lbs_of_CO2_from_paperFile</th>\n",
       "      <th>number_of_tax_returns</th>\n",
       "      <th>percent_of_returns_eFiled</th>\n",
       "      <th>percent_of_returns_paperFiled</th>\n",
       "    </tr>\n",
       "  </thead>\n",
       "  <tbody>\n",
       "    <tr>\n",
       "      <th>1990-12-31</th>\n",
       "      <td>5.019320e+06</td>\n",
       "      <td>3.783410e+07</td>\n",
       "      <td>113717138</td>\n",
       "      <td>0.0400</td>\n",
       "      <td>0.9600</td>\n",
       "    </tr>\n",
       "    <tr>\n",
       "      <th>2000-12-31</th>\n",
       "      <td>4.282778e+07</td>\n",
       "      <td>3.138554e+07</td>\n",
       "      <td>129373500</td>\n",
       "      <td>0.3000</td>\n",
       "      <td>0.7000</td>\n",
       "    </tr>\n",
       "    <tr>\n",
       "      <th>2010-12-31</th>\n",
       "      <td>1.100313e+08</td>\n",
       "      <td>1.481041e+07</td>\n",
       "      <td>142449000</td>\n",
       "      <td>0.7000</td>\n",
       "      <td>0.3000</td>\n",
       "    </tr>\n",
       "    <tr>\n",
       "      <th>2016-12-31</th>\n",
       "      <td>1.514944e+08</td>\n",
       "      <td>5.286660e+06</td>\n",
       "      <td>152544000</td>\n",
       "      <td>0.9000</td>\n",
       "      <td>0.1000</td>\n",
       "    </tr>\n",
       "    <tr>\n",
       "      <th>2025-12-31</th>\n",
       "      <td>2.499695e+08</td>\n",
       "      <td>9.454975e+05</td>\n",
       "      <td>229259400</td>\n",
       "      <td>0.9881</td>\n",
       "      <td>0.0119</td>\n",
       "    </tr>\n",
       "    <tr>\n",
       "      <th>2026-12-31</th>\n",
       "      <td>0.000000e+00</td>\n",
       "      <td>7.945357e+07</td>\n",
       "      <td>229259400</td>\n",
       "      <td>0.0000</td>\n",
       "      <td>1.0000</td>\n",
       "    </tr>\n",
       "  </tbody>\n",
       "</table>\n",
       "</div>"
      ],
      "text/plain": [
       "            lbs_of_CO2_from_eFile  lbs_of_CO2_from_paperFile  \\\n",
       "1990-12-31           5.019320e+06               3.783410e+07   \n",
       "2000-12-31           4.282778e+07               3.138554e+07   \n",
       "2010-12-31           1.100313e+08               1.481041e+07   \n",
       "2016-12-31           1.514944e+08               5.286660e+06   \n",
       "2025-12-31           2.499695e+08               9.454975e+05   \n",
       "2026-12-31           0.000000e+00               7.945357e+07   \n",
       "\n",
       "            number_of_tax_returns  percent_of_returns_eFiled  \\\n",
       "1990-12-31              113717138                     0.0400   \n",
       "2000-12-31              129373500                     0.3000   \n",
       "2010-12-31              142449000                     0.7000   \n",
       "2016-12-31              152544000                     0.9000   \n",
       "2025-12-31              229259400                     0.9881   \n",
       "2026-12-31              229259400                     0.0000   \n",
       "\n",
       "            percent_of_returns_paperFiled  \n",
       "1990-12-31                         0.9600  \n",
       "2000-12-31                         0.7000  \n",
       "2010-12-31                         0.3000  \n",
       "2016-12-31                         0.1000  \n",
       "2025-12-31                         0.0119  \n",
       "2026-12-31                         1.0000  "
      ]
     },
     "execution_count": 27,
     "metadata": {},
     "output_type": "execute_result"
    }
   ],
   "source": [
    "df = pd.DataFrame(d)\n",
    "df.to_csv(\"./yearly_lbs_of_CO2_per_tax_filing_methods.csv\")\n",
    "df"
   ]
  },
  {
   "cell_type": "markdown",
   "metadata": {},
   "source": [
    "The bar chart below is comparing the lbs of CO<sub>2</sub> produced for each year based on the percentage of e-filing and paper filing. <br>\n",
    "**note: 2026 is being used as a dummy year just to see what the total CO<sub>2</sub> produced is when we have 100% paper filing.**  \n",
    "<div id=\"plots\"></div>"
   ]
  },
  {
   "cell_type": "code",
   "execution_count": 28,
   "metadata": {
    "collapsed": false
   },
   "outputs": [
    {
     "data": {
      "image/png": "[encoded data removed]",
      "text/plain": [
       "<matplotlib.figure.Figure at 0x115562fd0>"
      ]
     },
     "metadata": {},
     "output_type": "display_data"
    }
   ],
   "source": [
    "df[[\"lbs_of_CO2_from_eFile\",\"lbs_of_CO2_from_paperFile\"]].plot(kind=\"bar\",  title='Total lbs of CO2 by Filing Method');"
   ]
  },
  {
   "cell_type": "markdown",
   "metadata": {},
   "source": [
    "...the end"
   ]
  },
  {
   "cell_type": "code",
   "execution_count": 29,
   "metadata": {
    "collapsed": false
   },
   "outputs": [],
   "source": [
    "#e = {}\n",
    "#for item in d:\n",
    "#    for year,value in d[item].items():\n",
    "#        e[item]=e.get(item,{})\n",
    "#        e[item][year.year] = value"
   ]
  },
  {
   "cell_type": "code",
   "execution_count": 30,
   "metadata": {
    "collapsed": false
   },
   "outputs": [],
   "source": [
    "#pprint.pprint(e)"
   ]
  },
  {
   "cell_type": "code",
   "execution_count": null,
   "metadata": {
    "collapsed": true
   },
   "outputs": [],
   "source": []
  }
 ],
 "metadata": {
  "anaconda-cloud": {},
  "kernelspec": {
   "display_name": "Python [default]",
   "language": "python",
   "name": "python3"
  },
  "language_info": {
   "codemirror_mode": {
    "name": "ipython",
    "version": 3
   },
   "file_extension": ".py",
   "mimetype": "text/x-python",
   "name": "python",
   "nbconvert_exporter": "python",
   "pygments_lexer": "ipython3",
   "version": "3.5.2"
  }
 },
 "nbformat": 4,
 "nbformat_minor": 2
}
